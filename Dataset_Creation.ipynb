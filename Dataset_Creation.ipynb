{
 "cells": [
  {
   "cell_type": "code",
   "execution_count": null,
   "metadata": {
    "collapsed": true
   },
   "outputs": [],
   "source": [
    "#Dataset Creation of Election and Food Reviews CSV\n",
    "import os\n",
    "import numpy as np\n",
    "from sklearn.naive_bayes import MultinomialNB\n",
    "from sklearn.svm import LinearSVC\n",
    "from sklearn.metrics import confusion_matrix\n",
    "from sklearn.feature_extraction.text import TfidfVectorizer, CountVectorizer\n",
    "from sklearn.model_selection import StratifiedKFold\n",
    "import preprocessor as p\n",
    "from nltk import PorterStemmer \n",
    "from nltk.stem import WordNetLemmatizer\n",
    "lemmatizer = WordNetLemmatizer()\n",
    "import string\n",
    "import pandas as pd\n",
    "from stw import SupervisedTermWeightingWTransformer\n",
    "from numpy import array\n",
    "import ast\n",
    "from nltk.corpus import stopwords "
   ]
  },
  {
   "cell_type": "code",
   "execution_count": null,
   "metadata": {
    "collapsed": true
   },
   "outputs": [],
   "source": [
    "def preprocessing(line):\n",
    "    line=p.clean(line)\n",
    "    line = line.lower()\n",
    "    line = line.split()\n",
    "    for i in range(len(line)):\n",
    "        lemmatizing_token=lemmatizer.lemmatize(line[i])\n",
    "        line[i]=lemmatizing_token\n",
    "    translation = str.maketrans(\"\",\"\", string.punctuation);\n",
    "    for i in range(len(line)):\n",
    "        line[i]=line[i].translate(translation)\n",
    "    \n",
    "    stop_words = set(stopwords.words('english'))\n",
    "    line=[token for token in line if not token in stop_words]\n",
    "\n",
    "    line=[token for token in line if token.isalpha()]\n",
    "    line=[token for token in line if len(token)>2]\n",
    "    line = \" \".join(line)\n",
    "    return line"
   ]
  },
  {
   "cell_type": "code",
   "execution_count": null,
   "metadata": {
    "collapsed": true
   },
   "outputs": [],
   "source": [
    "def make_Corpus(root_dir,polarity_dirs):\n",
    "    corpus = []\n",
    "    for polarity_dir in polarity_dirs:\n",
    "        reviews = [os.path.join(polarity_dir,f) for f in os.listdir(polarity_dir)]\n",
    "        for review in reviews:\n",
    "            doc_string = \"\";\n",
    "            with open(review) as rev:\n",
    "                print(review)\n",
    "                for line in rev:\n",
    "                    doc_string = doc_string + line\n",
    "                    doc_string+=\" \"\n",
    "            if not corpus:\n",
    "                corpus = [doc_string]\n",
    "            else:\n",
    "                corpus.append(doc_string)\n",
    "    return corpus\n",
    "\n",
    "root_dir = 'Elections/neg/'\n",
    "pos_corpus = make_Corpus(root_dir,['Elections/neg/'])\n",
    "\n",
    "root_dir = 'Elections/pos/'\n",
    "neg_corpus = make_Corpus(root_dir,['Elections/pos/'])\n"
   ]
  },
  {
   "cell_type": "code",
   "execution_count": null,
   "metadata": {},
   "outputs": [],
   "source": [
    "df=pd.read_csv(\"Reviews.csv\")\n",
    "df.dropna(inplace=True)\n",
    "df[df['Score'] != 3]\n",
    "df['Positivity'] = np.where(df['Score'] > 3, 1, 0)\n",
    "df.head()\n",
    "\n",
    "pos_corpus=[]\n",
    "neg_corpus=[]\n",
    "pos=0\n",
    "neg=0\n",
    "for i in range(len(df)):\n",
    "    if df.iloc[i][10] == 1:\n",
    "        pos_corpus.append(df.iloc[i][8])\n",
    "        pos+=1\n",
    "    elif df.iloc[i][10] == 0:\n",
    "        neg_corpus.append(df.iloc[i][8])\n",
    "        neg+=1\n",
    "print(\"Done\")\n",
    "\n",
    "def make_CSV_corpus(neg_corpus,pos_corpus):\n",
    "    corpus = []    \n",
    "    file_counter=0\n",
    "    for line in neg_corpus:\n",
    "        line = preprocessing(line)\n",
    "        the_file = open(\"Food_Reviews/pos/file_\"+str(file_counter)+\".txt\", 'w+')\n",
    "        the_file.write(line)\n",
    "        the_file.close()\n",
    "        file_counter+=1\n",
    "        corpus.append(line)\n",
    "    \n",
    "    for line in pos_corpus:\n",
    "        line = preprocessing(line)\n",
    "        the_file = open(\"Food_Reviews/neg/file_\"+str(file_counter)+\".txt\", 'w+')\n",
    "        the_file.write(line)\n",
    "        the_file.close()\n",
    "        file_counter+=1\n",
    "        corpus.append(line)\n",
    "    return corpus\n",
    "\n",
    "corpus = make_CSV_corpus(neg_corpus,pos_corpus)"
   ]
  }
 ],
 "metadata": {
  "kernelspec": {
   "display_name": "Python 3",
   "language": "python",
   "name": "python3"
  },
  "language_info": {
   "codemirror_mode": {
    "name": "ipython",
    "version": 3
   },
   "file_extension": ".py",
   "mimetype": "text/x-python",
   "name": "python",
   "nbconvert_exporter": "python",
   "pygments_lexer": "ipython3",
   "version": "3.6.2"
  }
 },
 "nbformat": 4,
 "nbformat_minor": 2
}
